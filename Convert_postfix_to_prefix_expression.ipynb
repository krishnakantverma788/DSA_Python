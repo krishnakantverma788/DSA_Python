{
 "cells": [
  {
   "cell_type": "code",
   "execution_count": null,
   "id": "5c7b5756",
   "metadata": {},
   "outputs": [],
   "source": [
    "# Read about infix, prefix, and postfix expressions. Write a program to convert postfix to prefix expression.\n",
    "\n"
   ]
  },
  {
   "cell_type": "code",
   "execution_count": 1,
   "id": "2524f9e3",
   "metadata": {},
   "outputs": [
    {
     "name": "stdout",
     "output_type": "stream",
     "text": [
      "Prefix :  +AB-CD\n"
     ]
    }
   ],
   "source": [
    "def isOperator(x):\n",
    "\n",
    "\tif x == \"+\":\n",
    "\t\treturn True\n",
    "\n",
    "\tif x == \"-\":\n",
    "\t\treturn True\n",
    "\n",
    "\tif x == \"/\":\n",
    "\t\treturn True\n",
    "\n",
    "\tif x == \"*\":\n",
    "\t\treturn True\n",
    "\n",
    "\treturn False\n",
    "\n",
    "\n",
    "def postToPre(post_exp):\n",
    "\n",
    "\ts = []\n",
    "\n",
    "\tlength = len(post_exp)\n",
    "\n",
    "\tfor i in range(length):\n",
    "\n",
    "\t\tif (isOperator(post_exp[i])):\n",
    "\n",
    "\t\t\top1 = s[-1]\n",
    "\t\t\ts.pop()\n",
    "\t\t\top2 = s[-1]\n",
    "\t\t\ts.pop()\n",
    "\n",
    "\t\t\ttemp = post_exp[i] + op2 + op1\n",
    "\n",
    "\t\t\ts.append(temp)\n",
    "\n",
    "\t\telse:\n",
    "\n",
    "\t\t\ts.append(post_exp[i])\n",
    "\n",
    "\t\n",
    "\tans = \"\"\n",
    "\tfor i in s:\n",
    "\t\tans += i\n",
    "\treturn ans\n",
    "\n",
    "\n",
    "if __name__ == \"__main__\":\n",
    "\n",
    "\tpost_exp = \"AB+CD-\"\n",
    "\t\n",
    "\tprint(\"Prefix : \", postToPre(post_exp))"
   ]
  },
  {
   "cell_type": "code",
   "execution_count": null,
   "id": "eb99c694",
   "metadata": {},
   "outputs": [],
   "source": []
  }
 ],
 "metadata": {
  "kernelspec": {
   "display_name": "Python 3",
   "language": "python",
   "name": "python3"
  },
  "language_info": {
   "codemirror_mode": {
    "name": "ipython",
    "version": 3
   },
   "file_extension": ".py",
   "mimetype": "text/x-python",
   "name": "python",
   "nbconvert_exporter": "python",
   "pygments_lexer": "ipython3",
   "version": "3.8.8"
  }
 },
 "nbformat": 4,
 "nbformat_minor": 5
}
