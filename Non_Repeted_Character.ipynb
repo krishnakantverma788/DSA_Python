{
 "cells": [
  {
   "cell_type": "code",
   "execution_count": null,
   "id": "0352ce18",
   "metadata": {},
   "outputs": [],
   "source": [
    "# Write a program to print the first non-repeated character from a string?"
   ]
  },
  {
   "cell_type": "code",
   "execution_count": 1,
   "id": "daec8b62",
   "metadata": {},
   "outputs": [
    {
     "name": "stdout",
     "output_type": "stream",
     "text": [
      "First non-repeating character is f\n"
     ]
    }
   ],
   "source": [
    "NO_OF_CHARS = 256\n",
    "\n",
    "def CharCountArray(string):\n",
    "\tcount = [0] * NO_OF_CHARS\n",
    "\tfor i in string:\n",
    "\t\tcount[ord(i)]+= 1\n",
    "\treturn count\n",
    "\n",
    "def firstNonRepeating(string):\n",
    "\tcount = CharCountArray(string)\n",
    "\tindex = -1\n",
    "\tk = 0\n",
    "\n",
    "\tfor i in string:\n",
    "\t\tif count[ord(i)] == 1:\n",
    "\t\t\tindex = k\n",
    "\t\t\tbreak\n",
    "\t\tk += 1\n",
    "\n",
    "\treturn index\n",
    "\n",
    "string = \"geeksforgeeks\"\n",
    "index = firstNonRepeating(string)\n",
    "if index == 1:\n",
    "\tprint(\"Either all characters are repeating or string is empty\")\n",
    "else:\n",
    "\tprint(\"First non-repeating character is \" + string[index])"
   ]
  },
  {
   "cell_type": "code",
   "execution_count": null,
   "id": "59b2ed69",
   "metadata": {},
   "outputs": [],
   "source": []
  }
 ],
 "metadata": {
  "kernelspec": {
   "display_name": "Python 3",
   "language": "python",
   "name": "python3"
  },
  "language_info": {
   "codemirror_mode": {
    "name": "ipython",
    "version": 3
   },
   "file_extension": ".py",
   "mimetype": "text/x-python",
   "name": "python",
   "nbconvert_exporter": "python",
   "pygments_lexer": "ipython3",
   "version": "3.8.8"
  }
 },
 "nbformat": 4,
 "nbformat_minor": 5
}
